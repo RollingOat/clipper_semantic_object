{
 "cells": [
  {
   "cell_type": "code",
   "execution_count": 2,
   "metadata": {},
   "outputs": [],
   "source": [
    "import time\n",
    "import numpy as np\n",
    "import clipperpy\n",
    "import matplotlib.pyplot as plt"
   ]
  },
  {
   "cell_type": "code",
   "execution_count": 11,
   "metadata": {},
   "outputs": [],
   "source": [
    "def read_data_from_txt(txt_file):\n",
    "    '''\n",
    "    the txt file should be in the following format in each line:\n",
    "    label x y z\n",
    "    get the x y value return a 2 by n numpy array\n",
    "    '''\n",
    "    data = np.loadtxt(txt_file, usecols=(0, 1, 2), dtype=np.float64)\n",
    "    return data.T\n",
    "\n",
    "def visualize_DA(data_a, data_b, Ain, tf, displacement = 80):\n",
    "    '''\n",
    "    data_a: 3 by n numpy array, label, x, y lable range from 0 to -2\n",
    "    data_b: 3 by m numpy array, label, x, y\n",
    "    Ain: k by 2 numpy array, mapping point indexed by row in data_a to data_b\n",
    "    '''\n",
    "    # draw circles with label 0 in red, label -1 in blue, label -2 in green for data a\n",
    "    data_a_position = data_a[1:3, :]\n",
    "    transformed_back_data_b = transform_data(data_b, np.linalg.inv(tf))\n",
    "    data_b_position = transformed_back_data_b[1:3, :]\n",
    "    # for each point in data a, draw a line to the corresponding point in data b\n",
    "    for i in range(Ain.shape[0]):\n",
    "        a = data_a_position[:, Ain[i, 0]]\n",
    "        b = data_b_position[:, Ain[i, 1]]\n",
    "        plt.plot([a[0], b[0]+ displacement] , [a[1], b[1]], 'k-')\n",
    "    for i in range(data_a_position.shape[1]):\n",
    "        if data_a[0, i] == 3 or data_a[0, i] == 2:\n",
    "            plt.plot(data_a_position[0, i], data_a_position[1, i], 'go')\n",
    "        elif data_a[0, i] == 1:\n",
    "            plt.plot(data_a_position[0, i], data_a_position[1, i], 'gs')\n",
    "        elif data_a[0, i] == 0:\n",
    "            plt.plot(data_a_position[0, i], data_a_position[1, i], 'go')\n",
    "    for i in range(data_b_position.shape[1]):\n",
    "        if data_b[0, i] == 3 or data_b[0, i] == 2:\n",
    "            plt.plot(data_b_position[0, i] + displacement, data_b_position[1, i], 'ro')\n",
    "        elif data_b[0, i] == 1:\n",
    "            plt.plot(data_b_position[0, i] + displacement, data_b_position[1, i], 'rs')\n",
    "        elif data_b[0, i] == 0:\n",
    "            plt.plot(data_b_position[0, i] + displacement, data_b_position[1, i], 'ro')\n",
    "\n",
    "    \n",
    "    plt.show()\n",
    "\n",
    "def transform_data(data, tf):\n",
    "    '''\n",
    "    data: 3 by n numpy array, label, x, y\n",
    "    tf: 3 by 3 numpy array, 2D transformation matrix\n",
    "    return data_transformed: 3 by n numpy array, label, x, y\n",
    "    '''\n",
    "    data_transformed = np.zeros_like(data)\n",
    "    data_transformed[0, :] = data[0, :]\n",
    "    data_xy = data[1:3, :]\n",
    "    data_xy1 = np.vstack((data_xy, np.ones(data_xy.shape[1]))).T\n",
    "    data_xy1_transformed = data_xy1 @ tf # n by 3\n",
    "    data_xy_transformed = data_xy1_transformed[:, 0:2].T # 2 by n\n",
    "    data_transformed[1:3, :] = data_xy_transformed\n",
    "    return data_transformed\n",
    "\n",
    "def visualize_data_a(data):\n",
    "    '''\n",
    "    data: 3 by n numpy array, label, x, y\n",
    "    '''\n",
    "    data_position = data[1:3, :]\n",
    "    data_label = data[0, :]\n",
    "    for i in range(data_position.shape[1]):\n",
    "        if data_label[i] == 3 or data_label[i] == 2:\n",
    "            plt.plot(data_position[0, i], data_position[1, i], 'go')\n",
    "        elif data_label[i] == 1:\n",
    "            plt.plot(data_position[0, i], data_position[1, i], 'gs')\n",
    "        elif data_label[i] == 0:\n",
    "            plt.plot(data_position[0, i], data_position[1, i], 'go')\n",
    "    plt.show()\n",
    "\n",
    "def visualize_data_b(data):\n",
    "    '''\n",
    "    data: 3 by n numpy array, label, x, y\n",
    "    '''\n",
    "    data_position = data[1:3, :]\n",
    "    data_label = data[0, :]\n",
    "    for i in range(data_position.shape[1]):\n",
    "        if data_label[i] == 3 or data_label[i] == 2:\n",
    "            plt.plot(data_position[0, i], data_position[1, i], 'ro')\n",
    "        elif data_label[i] == 1:\n",
    "            plt.plot(data_position[0, i], data_position[1, i], 'rs')\n",
    "        elif data_label[i] == 0:\n",
    "            plt.plot(data_position[0, i], data_position[1, i], 'ro')\n",
    "    plt.show()\n",
    "    \n",
    "\n",
    "def generate_DA(size_a, size_b):\n",
    "    '''\n",
    "    size_a: number of points in data A\n",
    "    size_b: number of points in data B\n",
    "    A: min(size_a, size_b) by 2 numpy array, mapping point indexed by row in data A to data B \n",
    "    '''\n",
    "    DA = np.zeros((size_a*size_b, 2), dtype=np.int32)\n",
    "    for i in range(size_a):\n",
    "        for j in range(size_b):\n",
    "            DA[i*size_b+j, 0] = i\n",
    "            DA[i*size_b+j, 1] = j\n",
    "    return DA\n",
    "\n",
    "def generate_DA_closest(size_a, size_b, data_a, data_b):\n",
    "    '''\n",
    "    size_a: number of points in data A\n",
    "    size_b: number of points in data B\n",
    "    data_a: 3 by size_a numpy array, label, x, y\n",
    "    data_b: 3 by size_b numpy array, label, x, y\n",
    "    A: min(size_a, size_b) by 2 numpy array, mapping point indexed by row in data A to data B \n",
    "    '''\n",
    "    DA = []\n",
    "    min_distance = 30\n",
    "    for i in range(size_a):\n",
    "        for j in range(size_b):\n",
    "            distance = np.linalg.norm(data_a[1:3, i] - data_b[1:3, j])\n",
    "            if distance < min_distance:\n",
    "                DA.append([i, j])\n",
    "    DA = np.array(DA, dtype=np.int32)\n",
    "    return DA\n",
    "\n",
    "def perturb_data(data, Transformation):\n",
    "    '''\n",
    "    data: 3 by n numpy array, label, x, y\n",
    "    Transformation: 3 by 3 numpy array, 2D transformation matrix\n",
    "    return data_perturbed: 3 by n numpy array, label, x, y\n",
    "    '''\n",
    "    data_perturbed = np.zeros_like(data)\n",
    "    data_perturbed[0, :] = data[0, :]\n",
    "    data_xy = data[1:3, :]\n",
    "    data_xy1 = np.vstack((data_xy, np.ones(data_xy.shape[1]))).T\n",
    "    data_xy1_perturbed = data_xy1 @ Transformation # n by 3\n",
    "    data_xy_perturbed = data_xy1_perturbed[:, 0:2].T # 2 by n\n",
    "    data_perturbed[1:3, :] = data_xy_perturbed\n",
    "    return data_perturbed\n",
    "\n",
    "def generate_2d_txt_file(txt_file):\n",
    "    '''\n",
    "    txt_data: 3 by n numpy array, label, x, y, z\n",
    "    add a coma between x and y\n",
    "    '''\n",
    "    data = np.loadtxt(txt_file, usecols=(1, 2), dtype=np.float64)\n",
    "    new_txt_file = txt_file.replace('.txt', '_2d.txt')\n",
    "    np.savetxt(new_txt_file, data, fmt='%f', delimiter=',')\n",
    "    \n"
   ]
  },
  {
   "cell_type": "code",
   "execution_count": 12,
   "metadata": {},
   "outputs": [],
   "source": [
    "def visualize_points(points):\n",
    "    '''\n",
    "    points: 2 by n numpy array, x, y\n",
    "    '''\n",
    "    plt.plot(points[0, :], points[1, :], 'ro')\n",
    "    plt.show()\n",
    "\n",
    "def transform_2d_points(points, tf):\n",
    "    '''\n",
    "    points: 2 by n numpy array, x, y\n",
    "    tf: 3 by 3 numpy array, 2D transformation matrix\n",
    "    return points_transformed: 2 by n numpy array, x, y\n",
    "    '''\n",
    "    points_transformed = np.zeros_like(points)\n",
    "    points1 = np.vstack((points, np.ones(points.shape[1]))).T\n",
    "    points1_transformed = points1 @ tf # n by 3\n",
    "    points_transformed = points1_transformed[:, 0:2].T # 2 by n\n",
    "    return points_transformed\n",
    "\n",
    "def visulize_da(points_a, points_b, gt_tf, displacement = 80):\n",
    "    '''\n",
    "    points_a: 2 by n numpy array, x, y\n",
    "    points_b: 2 by m numpy array, x, y\n",
    "    gt_tf: 3 by 3 numpy array, ground truth transformation matrix\n",
    "    '''\n",
    "    points_b_transformed = transform_2d_points(points_b, gt_tf)\n",
    "    for i in range(points_a.shape[1]):\n",
    "        plt.plot(points_a[0, i], points_a[1, i], 'go')\n",
    "    for i in range(points_b.shape[1]):\n",
    "        plt.plot(points_b[0, i] + displacement, points_b[1, i], 'ro')\n",
    "    for i in range(points_a.shape[1]):\n",
    "        plt.plot([points_a[0, i], points_b_transformed[0, i] + displacement], [points_a[1, i], points_b_transformed[1, i]], 'k-')\n",
    "    plt.show()\n"
   ]
  },
  {
   "cell_type": "code",
   "execution_count": 8,
   "metadata": {},
   "outputs": [],
   "source": [
    "tri1 = np.load(\"/home/jiuzhou/clipper_semantic_object/examples/data/matched_points1.npy\")\n",
    "tri2 = np.load(\"/home/jiuzhou/clipper_semantic_object/examples/data/matched_points2.npy\")\n",
    "point1 = tri1.reshape(-1, 2).astype(np.float64).T\n",
    "point2 = tri2.reshape(-1, 2).astype(np.float64).T\n",
    "\n",
    "# \n",
    "yaw = 0\n",
    "dx = 0\n",
    "dy = 0\n",
    "perturb_tf = np.array([[np.cos(yaw), -np.sin(yaw), dx], [np.sin(yaw), np.cos(yaw), dy], [0, 0, 1]])\n",
    "# data2 in data1's frame\n",
    "gt_yaw = 0\n",
    "gt_dx = 0\n",
    "gt_dy = 0\n",
    "gt_tf = np.array([[np.cos(gt_yaw), -np.sin(gt_yaw), gt_dx], [np.sin(gt_yaw), np.cos(gt_yaw), gt_dy], [0, 0, 1]])\n",
    "\n",
    "\n",
    "A = np.arange(point1.shape[1])\n",
    "A = np.hstack((A.reshape(-1, 1), A.reshape(-1, 1)))\n",
    "A = A.astype(np.int32)"
   ]
  },
  {
   "cell_type": "code",
   "execution_count": 9,
   "metadata": {},
   "outputs": [
    {
     "name": "stdout",
     "output_type": "stream",
     "text": [
      "A shape:  (366, 2)\n",
      "point1 shape:  (2, 366)\n",
      "point2 shape:  (2, 366)\n"
     ]
    }
   ],
   "source": [
    "print(\"A shape: \", A.shape)\n",
    "print(\"point1 shape: \", point1.shape)\n",
    "print(\"point2 shape: \", point2.shape)"
   ]
  },
  {
   "cell_type": "code",
   "execution_count": 10,
   "metadata": {},
   "outputs": [],
   "source": [
    "iparams = clipperpy.invariants.EuclideanDistanceParams()\n",
    "iparams.sigma = 0.1\n",
    "iparams.epsilon = 0.3\n",
    "invariant = clipperpy.invariants.EuclideanDistance(iparams)\n",
    "\n",
    "params = clipperpy.Params()\n",
    "params.rounding = clipperpy.Rounding.DSD_HEU\n",
    "clipper = clipperpy.CLIPPER(invariant, params)"
   ]
  },
  {
   "cell_type": "code",
   "execution_count": 11,
   "metadata": {},
   "outputs": [
    {
     "name": "stdout",
     "output_type": "stream",
     "text": [
      "Scoring 366 pairwise associations\n",
      "m: 366\n"
     ]
    }
   ],
   "source": [
    "clipper.score_pairwise_consistency(point1, point2, A)\n",
    "clipper.solve()\n",
    "Ain = clipper.get_selected_associations()"
   ]
  },
  {
   "cell_type": "code",
   "execution_count": 17,
   "metadata": {},
   "outputs": [
    {
     "data": {
      "image/png": "[encoded data removed]",
      "text/plain": [
       "<Figure size 640x480 with 1 Axes>"
      ]
     },
     "metadata": {},
     "output_type": "display_data"
    }
   ],
   "source": [
    "matched_points_1 = point1[:, Ain[:, 0]]\n",
    "matched_points_2 = point2[:, Ain[:, 1]]\n",
    "visulize_da(matched_points_1, matched_points_2, gt_tf, displacement = 80)"
   ]
  },
  {
   "cell_type": "markdown",
   "metadata": {},
   "source": [
    "perform matching on subset of large dataset "
   ]
  },
  {
   "cell_type": "code",
   "execution_count": 18,
   "metadata": {},
   "outputs": [],
   "source": [
    "def tf_estimation_lsq(matched_points_a, matched_points_b):\n",
    "    '''\n",
    "    matched_points_a: 2 by n numpy array, x, y\n",
    "    matched_points_b: 2 by n numpy array, x, y\n",
    "    '''\n",
    "    tf = np.eye(3)\n",
    "    centroid_a = np.mean(matched_points_a, axis=1)\n",
    "    centroid_b = np.mean(matched_points_b, axis=1)\n",
    "    H = np.zeros((2, 2))\n",
    "    for i in range(matched_points_a.shape[1]):\n",
    "        H += np.outer(matched_points_a[:, i] - centroid_a, matched_points_b[:, i] - centroid_b)\n",
    "    U, S, Vt = np.linalg.svd(H)\n",
    "    R = Vt.T @ U.T\n",
    "    if np.linalg.det(R) < 0:\n",
    "        Vt[1, :] *= -1\n",
    "        R = Vt.T @ U.T\n",
    "    t = -R @ centroid_a + centroid_b\n",
    "    tf[0:2, 0:2] = R\n",
    "    tf[0:2, 2] = t\n",
    "    return tf\n",
    "\n",
    "def visualize_matched_points(matched_points_a, matched_points_b, displacement = 80):\n",
    "    plt.plot(matched_points_a[0, :], matched_points_a[1, :], 'go')\n",
    "    plt.plot(matched_points_b[0, :]+displacement, matched_points_b[1, :], 'ro')\n",
    "    plt.show()"
   ]
  },
  {
   "cell_type": "code",
   "execution_count": 20,
   "metadata": {},
   "outputs": [
    {
     "name": "stdout",
     "output_type": "stream",
     "text": [
      "[[ 0.99999324 -0.00367812 -0.04980288]\n",
      " [ 0.00367812  0.99999324 -0.00839341]\n",
      " [ 0.          0.          1.        ]]\n"
     ]
    },
    {
     "data": {
      "image/png": "[encoded data removed]",
      "text/plain": [
       "<Figure size 640x480 with 1 Axes>"
      ]
     },
     "metadata": {},
     "output_type": "display_data"
    }
   ],
   "source": [
    "# use least square to estimate the transformation\n",
    "tf_estimated = tf_estimation_lsq(matched_points_1, matched_points_2)\n",
    "print(tf_estimated)\n",
    "visualize_matched_points(matched_points_1, matched_points_2)\n"
   ]
  }
 ],
 "metadata": {
  "kernelspec": {
   "display_name": "Python 3",
   "language": "python",
   "name": "python3"
  },
  "language_info": {
   "codemirror_mode": {
    "name": "ipython",
    "version": 3
   },
   "file_extension": ".py",
   "mimetype": "text/x-python",
   "name": "python",
   "nbconvert_exporter": "python",
   "pygments_lexer": "ipython3",
   "version": "3.8.10"
  }
 },
 "nbformat": 4,
 "nbformat_minor": 2
}
