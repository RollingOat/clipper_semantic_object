{
 "cells": [
  {
   "cell_type": "code",
   "execution_count": 6,
   "metadata": {},
   "outputs": [],
   "source": [
    "import numpy as np"
   ]
  },
  {
   "cell_type": "code",
   "execution_count": 7,
   "metadata": {},
   "outputs": [],
   "source": [
    "def get_2d_data(lxyz_file_path):\n",
    "    '''\n",
    "    lxyz_file_path: str, path to the .txt file\n",
    "    each line in the file is lable x y z\n",
    "    read the 1st and second column and return as a numpy array\n",
    "    '''\n",
    "    data = np.loadtxt(lxyz_file_path)\n",
    "    return data[:,1:3]\n"
   ]
  },
  {
   "cell_type": "code",
   "execution_count": 8,
   "metadata": {},
   "outputs": [
    {
     "name": "stdout",
     "output_type": "stream",
     "text": [
      "[[ 4.3224   6.93508]\n",
      " [ 7.70307 16.1049 ]\n",
      " [-5.86304  6.87743]\n",
      " [-7.57939  8.73975]\n",
      " [-4.08541  7.04283]]\n"
     ]
    }
   ],
   "source": [
    "file_path =  \"/home/jiuzhou/clipper_semantic_object/examples/data/robot2Map_forest.txt\"\n",
    "data = get_2d_data(file_path)\n",
    "print(data[:5])"
   ]
  },
  {
   "cell_type": "code",
   "execution_count": 9,
   "metadata": {},
   "outputs": [],
   "source": [
    "# save the data that each line is x,y\n",
    "save_file_path = file_path.replace(\".txt\", \"_2d.txt\")\n",
    "np.savetxt(save_file_path, data, fmt='%f,%f')"
   ]
  }
 ],
 "metadata": {
  "kernelspec": {
   "display_name": "Python 3",
   "language": "python",
   "name": "python3"
  },
  "language_info": {
   "codemirror_mode": {
    "name": "ipython",
    "version": 3
   },
   "file_extension": ".py",
   "mimetype": "text/x-python",
   "name": "python",
   "nbconvert_exporter": "python",
   "pygments_lexer": "ipython3",
   "version": "3.8.10"
  }
 },
 "nbformat": 4,
 "nbformat_minor": 2
}
