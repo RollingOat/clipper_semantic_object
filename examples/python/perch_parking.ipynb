{
 "cells": [
  {
   "cell_type": "code",
   "execution_count": 1,
   "metadata": {},
   "outputs": [
    {
     "name": "stdout",
     "output_type": "stream",
     "text": [
      "Jupyter environment detected. Enabling Open3D WebVisualizer.\n",
      "[Open3D INFO] WebRTC GUI backend enabled.\n",
      "[Open3D INFO] WebRTCWindowSystem: HTTP handshake server disabled.\n"
     ]
    }
   ],
   "source": [
    "import time\n",
    "import numpy as np\n",
    "import open3d as o3d\n",
    "from scipy.spatial.transform import Rotation\n",
    "import clipperpy\n",
    "import matplotlib.pyplot as plt"
   ]
  },
  {
   "cell_type": "code",
   "execution_count": 2,
   "metadata": {},
   "outputs": [],
   "source": [
    "def read_data_from_txt(txt_file):\n",
    "    '''\n",
    "    the txt file should be in the following format in each line:\n",
    "    label x y z\n",
    "    get the x y value return a 2 by n numpy array\n",
    "    '''\n",
    "    data = np.loadtxt(txt_file, usecols=(0, 1, 2), dtype=np.float64)\n",
    "    return data.T\n",
    "\n",
    "def visualize_DA(data_a, data_b, Ain, tf, displacement = 0):\n",
    "    '''\n",
    "    data_a: 3 by n numpy array, label, x, y lable range from 0 to -2\n",
    "    data_b: 3 by m numpy array, label, x, y\n",
    "    Ain: k by 2 numpy array, mapping point indexed by row in data_a to data_b\n",
    "    '''\n",
    "    # draw circles with label 0 in red, label -1 in blue, label -2 in green for data a\n",
    "    data_a_position = data_a[1:3, :]\n",
    "    transformed_back_data_b = transform_data(data_b, np.linalg.inv(tf))\n",
    "    data_b_position = transformed_back_data_b[1:3, :]\n",
    "    # for each point in data a, draw a line to the corresponding point in data b\n",
    "    for i in range(Ain.shape[0]):\n",
    "        a = data_a_position[:, Ain[i, 0]]\n",
    "        b = data_b_position[:, Ain[i, 1]]\n",
    "        plt.plot([a[0], b[0]+ displacement] , [a[1], b[1]], 'k-')\n",
    "    for i in range(data_a_position.shape[1]):\n",
    "        if data_a[0, i] == 3 or data_a[0, i] == 2:\n",
    "            plt.plot(data_a_position[0, i], data_a_position[1, i], 'go')\n",
    "        elif data_a[0, i] == 1:\n",
    "            plt.plot(data_a_position[0, i], data_a_position[1, i], 'gs')\n",
    "        elif data_a[0, i] == 0:\n",
    "            plt.plot(data_a_position[0, i], data_a_position[1, i], 'go')\n",
    "    for i in range(data_b_position.shape[1]):\n",
    "        if data_b[0, i] == 3 or data_b[0, i] == 2:\n",
    "            plt.plot(data_b_position[0, i] + displacement, data_b_position[1, i], 'ro')\n",
    "        elif data_b[0, i] == 1:\n",
    "            plt.plot(data_b_position[0, i] + displacement, data_b_position[1, i], 'rs')\n",
    "        elif data_b[0, i] == 0:\n",
    "            plt.plot(data_b_position[0, i] + displacement, data_b_position[1, i], 'ro')\n",
    "\n",
    "    \n",
    "    plt.show()\n",
    "\n",
    "def transform_data(data, tf):\n",
    "    '''\n",
    "    data: 3 by n numpy array, label, x, y\n",
    "    tf: 3 by 3 numpy array, 2D transformation matrix\n",
    "    return data_transformed: 3 by n numpy array, label, x, y\n",
    "    '''\n",
    "    data_transformed = np.zeros_like(data)\n",
    "    data_transformed[0, :] = data[0, :]\n",
    "    data_xy = data[1:3, :]\n",
    "    data_xy1 = np.vstack((data_xy, np.ones(data_xy.shape[1]))).T\n",
    "    data_xy1_transformed = data_xy1 @ tf # n by 3\n",
    "    data_xy_transformed = data_xy1_transformed[:, 0:2].T # 2 by n\n",
    "    data_transformed[1:3, :] = data_xy_transformed\n",
    "    return data_transformed\n",
    "\n",
    "def visualize_data_a(data):\n",
    "    '''\n",
    "    data: 3 by n numpy array, label, x, y\n",
    "    '''\n",
    "    data_position = data[1:3, :]\n",
    "    data_label = data[0, :]\n",
    "    for i in range(data_position.shape[1]):\n",
    "        if data_label[i] == 3 or data_label[i] == 2:\n",
    "            plt.plot(data_position[0, i], data_position[1, i], 'go')\n",
    "        elif data_label[i] == 1:\n",
    "            plt.plot(data_position[0, i], data_position[1, i], 'gs')\n",
    "        elif data_label[i] == 0:\n",
    "            plt.plot(data_position[0, i], data_position[1, i], 'go')\n",
    "    plt.show()\n",
    "\n",
    "def visualize_data_b(data):\n",
    "    '''\n",
    "    data: 3 by n numpy array, label, x, y\n",
    "    '''\n",
    "    data_position = data[1:3, :]\n",
    "    data_label = data[0, :]\n",
    "    for i in range(data_position.shape[1]):\n",
    "        if data_label[i] == 3 or data_label[i] == 2:\n",
    "            plt.plot(data_position[0, i], data_position[1, i], 'ro')\n",
    "        elif data_label[i] == 1:\n",
    "            plt.plot(data_position[0, i], data_position[1, i], 'rs')\n",
    "        elif data_label[i] == 0:\n",
    "            plt.plot(data_position[0, i], data_position[1, i], 'ro')\n",
    "    plt.show()\n",
    "    \n",
    "\n",
    "def generate_DA(size_a, size_b):\n",
    "    '''\n",
    "    size_a: number of points in data A\n",
    "    size_b: number of points in data B\n",
    "    A: min(size_a, size_b) by 2 numpy array, mapping point indexed by row in data A to data B \n",
    "    '''\n",
    "    DA = np.zeros((size_a*size_b, 2), dtype=np.int32)\n",
    "    for i in range(size_a):\n",
    "        for j in range(size_b):\n",
    "            DA[i*size_b+j, 0] = i\n",
    "            DA[i*size_b+j, 1] = j\n",
    "    return DA\n",
    "\n",
    "def perturb_data(data, Transformation):\n",
    "    '''\n",
    "    data: 3 by n numpy array, label, x, y\n",
    "    Transformation: 3 by 3 numpy array, 2D transformation matrix\n",
    "    return data_perturbed: 3 by n numpy array, label, x, y\n",
    "    '''\n",
    "    data_perturbed = np.zeros_like(data)\n",
    "    data_perturbed[0, :] = data[0, :]\n",
    "    data_xy = data[1:3, :]\n",
    "    data_xy1 = np.vstack((data_xy, np.ones(data_xy.shape[1]))).T\n",
    "    data_xy1_perturbed = data_xy1 @ Transformation # n by 3\n",
    "    data_xy_perturbed = data_xy1_perturbed[:, 0:2].T # 2 by n\n",
    "    data_perturbed[1:3, :] = data_xy_perturbed\n",
    "    return data_perturbed\n"
   ]
  },
  {
   "cell_type": "code",
   "execution_count": 3,
   "metadata": {},
   "outputs": [
    {
     "name": "stdout",
     "output_type": "stream",
     "text": [
      "(3, 32)\n",
      "(3, 29)\n",
      "(928, 2)\n"
     ]
    }
   ],
   "source": [
    "data1_file = \"/home/jiuzhou/clipper_semantic_object/examples/data/robot0Map_indoor.txt\"\n",
    "data2_file = \"/home/jiuzhou/clipper_semantic_object/examples/data/robot2Map_indoor.txt\"\n",
    "D1 = read_data_from_txt(data1_file)\n",
    "D2 = read_data_from_txt(data2_file)\n",
    "yaw = 0\n",
    "dx = 0\n",
    "dy = 0\n",
    "perturb_tf = np.array([[np.cos(yaw), -np.sin(yaw), dx], [np.sin(yaw), np.cos(yaw), dy], [0, 0, 1]])\n",
    "gt_yaw = 0\n",
    "gt_dx = -0.94\n",
    "gt_dy = 1.76\n",
    "gt_tf = np.array([[np.cos(gt_yaw), -np.sin(gt_yaw), gt_dx], [np.sin(gt_yaw), np.cos(gt_yaw), gt_dy], [0, 0, 1]])\n",
    "D2 = perturb_data(D2, perturb_tf)\n",
    "print(D1.shape)\n",
    "print(D2.shape)\n",
    "D1_position = D1[1:3, :]\n",
    "D2_position = D2[1:3, :]\n",
    "A = generate_DA(D1.shape[1], D2.shape[1])\n",
    "print(A.shape)\n"
   ]
  },
  {
   "cell_type": "code",
   "execution_count": 4,
   "metadata": {},
   "outputs": [
    {
     "data": {
      "image/png": "[encoded data removed]",
      "text/plain": [
       "<Figure size 640x480 with 1 Axes>"
      ]
     },
     "metadata": {},
     "output_type": "display_data"
    }
   ],
   "source": [
    "visualize_data_a(D1)"
   ]
  },
  {
   "cell_type": "code",
   "execution_count": 5,
   "metadata": {},
   "outputs": [
    {
     "data": {
      "image/png": "[encoded data removed]",
      "text/plain": [
       "<Figure size 640x480 with 1 Axes>"
      ]
     },
     "metadata": {},
     "output_type": "display_data"
    }
   ],
   "source": [
    "visualize_data_b(D2)"
   ]
  },
  {
   "cell_type": "code",
   "execution_count": 6,
   "metadata": {},
   "outputs": [],
   "source": [
    "iparams = clipperpy.invariants.EuclideanDistanceParams()\n",
    "iparams.sigma = 0.1\n",
    "iparams.epsilon = 0.3\n",
    "invariant = clipperpy.invariants.EuclideanDistance(iparams)\n",
    "\n",
    "params = clipperpy.Params()\n",
    "params.rounding = clipperpy.Rounding.DSD_HEU\n",
    "clipper = clipperpy.CLIPPER(invariant, params)"
   ]
  },
  {
   "cell_type": "code",
   "execution_count": 7,
   "metadata": {},
   "outputs": [
    {
     "name": "stdout",
     "output_type": "stream",
     "text": [
      "Affinity matrix creation took 0.298 seconds\n"
     ]
    }
   ],
   "source": [
    "t0 = time.perf_counter()\n",
    "# D1 3 by n\n",
    "# D2 3 by m\n",
    "# A: k by 2\n",
    "clipper.score_pairwise_consistency(D1_position, D2_position, A)\n",
    "t1 = time.perf_counter()\n",
    "print(f\"Affinity matrix creation took {t1-t0:.3f} seconds\")\n",
    "\n",
    "t0 = time.perf_counter()\n",
    "clipper.solve()\n",
    "t1 = time.perf_counter()\n",
    "\n",
    "# A = clipper.get_initial_associations()\n",
    "# Ain: k by 2 association\n",
    "Ain = clipper.get_selected_associations()"
   ]
  },
  {
   "cell_type": "code",
   "execution_count": 8,
   "metadata": {},
   "outputs": [
    {
     "data": {
      "image/png": "[encoded data removed]",
      "text/plain": [
       "<Figure size 640x480 with 1 Axes>"
      ]
     },
     "metadata": {},
     "output_type": "display_data"
    }
   ],
   "source": [
    "visualize_DA(D1, D2, Ain, gt_tf)"
   ]
  }
 ],
 "metadata": {
  "kernelspec": {
   "display_name": "Python 3",
   "language": "python",
   "name": "python3"
  },
  "language_info": {
   "codemirror_mode": {
    "name": "ipython",
    "version": 3
   },
   "file_extension": ".py",
   "mimetype": "text/x-python",
   "name": "python",
   "nbconvert_exporter": "python",
   "pygments_lexer": "ipython3",
   "version": "3.8.10"
  }
 },
 "nbformat": 4,
 "nbformat_minor": 2
}
